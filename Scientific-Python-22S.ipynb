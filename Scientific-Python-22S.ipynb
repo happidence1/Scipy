{
 "cells": [
  {
   "cell_type": "markdown",
   "metadata": {
    "id": "eR2b3GqQxCDe"
   },
   "source": [
    " <center><h1>Introduction to Scientific Python</h1><center>\n",
    " <center><h2>Zhenhua He</h2><center>\n",
    " <center>\n",
    " <h3>Texas A&amp;M High Performance Research Computing (TAMU HPRC)<br>\n",
    "  (modified from original notebook by Tri Pham, Yang Liu (HPRC))</h3>\n",
    " <h3><a href=\"https://hprc.tamu.edu/training/intro_scientific_python.html\">course web page</a></h3>\n",
    " <h4>Febuary 18, 2022</h4>\n",
    " </center>"
   ]
  },
  {
   "cell_type": "markdown",
   "metadata": {
    "id": "JAAIwRA8xCDg"
   },
   "source": [
    "# Acknowledgement\n",
    "This tutorial was constructed based on \n",
    "1. [Numpy Tutorial](https://docs.scipy.org/doc/numpy/user/quickstart.html)\n",
    "2. [Scipy Tutorial (Linear Algebra)](https://docs.scipy.org/doc/scipy/tutorial/linalg.html)\n",
    "3. [Matplotlib Tutorial](https://matplotlib.org/stable/tutorials/introductory/pyplot.html)\n",
    "4. [NumPy and Numba](http://numba.pydata.org/numba-doc/0.12/tutorial_numpy_and_numba.html) \n",
    "\n",
    "Think of this as a collection of handpick topics in each of the above tutorials. Feel free to check out the origial links for each topic."
   ]
  },
  {
   "cell_type": "markdown",
   "metadata": {
    "id": "csMyq2ThxCDg"
   },
   "source": [
    " # Agenda\n",
    "\n",
    " - Numpy\n",
    " - Scipy\n",
    " - Errors in Scientific Computing\n",
    " - Matplotlib\n",
    " - Numba"
   ]
  },
  {
   "cell_type": "markdown",
   "metadata": {
    "id": "_V8Dei88xCDl"
   },
   "source": [
    " # 1 Numpy\n",
    "\n",
    " "
   ]
  },
  {
   "cell_type": "markdown",
   "metadata": {
    "id": "GbBBaDbEAC7n"
   },
   "source": [
    "## 1.1 What is NumPy\n",
    " Numpy is a fundamental package for scientific computing in python. It provides:\n",
    " - Multidiensional array object and various derived objects (matrices, etc.),\n",
    " - Routines for fast operations on arrays: shape manipulation, mathematical operations, and so on.\n",
    " Other widely usaged packages (Scipy, Biopython, Pandas, etc.) are built on Numpy.\n",
    " **Source:** [What is NumPy](https://docs.scipy.org/doc/numpy-1.13.0/user/whatisnumpy.html)\n"
   ]
  },
  {
   "cell_type": "markdown",
   "metadata": {
    "id": "HqX9AdrNxCDh"
   },
   "source": [
    " Before we begin, let us first import the Numpy library that we will use."
   ]
  },
  {
   "cell_type": "code",
   "execution_count": 1,
   "metadata": {
    "id": "HtH60dnAE1Av"
   },
   "outputs": [],
   "source": [
    "import numpy as np"
   ]
  },
  {
   "cell_type": "markdown",
   "metadata": {
    "id": "0El2fZQcFszK"
   },
   "source": [
    "## 1.2 Array Creation"
   ]
  },
  {
   "cell_type": "markdown",
   "metadata": {
    "id": "vXJO_0pov2sm"
   },
   "source": [
    "### Create from List"
   ]
  },
  {
   "cell_type": "code",
   "execution_count": 2,
   "metadata": {
    "id": "R-JY4_QVxCDm"
   },
   "outputs": [
    {
     "name": "stdout",
     "output_type": "stream",
     "text": [
      "arr_1:\n",
      "[[1 2 3]\n",
      " [4 5 6]]\n"
     ]
    }
   ],
   "source": [
    "arr_1 = np.array([[1, 2, 3],\n",
    "                  [4, 5, 6]])\n",
    "print(\"arr_1:\")\n",
    "print(arr_1)"
   ]
  },
  {
   "cell_type": "markdown",
   "metadata": {
    "id": "ROaSIuAJxCEp"
   },
   "source": [
    " ### Create with Numpy methods\n",
    " <ul>\n",
    "     <li>arange(start, end, step): return evenly spaced values within a given interval [start, end). step size determine the increment between an element and its predecessor.\n",
    "     <li>linspace(start, end, num_elements): creates an array of start, start + step, start + 2 * step, ... where step = (end - start) / (num_elements - 1). Note that the end number may be included.\n",
    "     <li> Due to finite floating point precision, it is difficult to predict the number of elements for arange. Avoid to use arange when step is not an integer.\n",
    " </ul>"
   ]
  },
  {
   "cell_type": "code",
   "execution_count": 3,
   "metadata": {
    "id": "i9YCUaqZxCEq"
   },
   "outputs": [
    {
     "name": "stdout",
     "output_type": "stream",
     "text": [
      "arr_2 =\n",
      "[1 3 5 7 9]\n"
     ]
    }
   ],
   "source": [
    "arr_2 = np.arange(1, 10, 2)\n",
    "print('arr_2 =')\n",
    "print(arr_2)"
   ]
  },
  {
   "cell_type": "code",
   "execution_count": 4,
   "metadata": {
    "id": "ke-x1C4PF1zB"
   },
   "outputs": [
    {
     "name": "stdout",
     "output_type": "stream",
     "text": [
      "arr_3 =\n",
      "[1.  1.5 2.  2.5 3.  3.5 4.  4.5 5. ]\n"
     ]
    }
   ],
   "source": [
    "arr_3 = np.linspace(1.0, 5.0, 9)\n",
    "print('arr_3 =')\n",
    "print(arr_3)"
   ]
  },
  {
   "cell_type": "markdown",
   "metadata": {
    "id": "DqcZ5zbrTGWM"
   },
   "source": [
    "### Exercise 1\n",
    "\n",
    "Creat an array with different methods in the code cell below. \n",
    "\n",
    "Feel free to create more cells if needed. Run the cells after you finish coding"
   ]
  },
  {
   "cell_type": "code",
   "execution_count": 6,
   "metadata": {
    "id": "68eJwaSsTmy7"
   },
   "outputs": [
    {
     "ename": "SyntaxError",
     "evalue": "invalid syntax (<ipython-input-6-4e3e545509e4>, line 3)",
     "output_type": "error",
     "traceback": [
      "\u001b[0;36m  File \u001b[0;32m\"<ipython-input-6-4e3e545509e4>\"\u001b[0;36m, line \u001b[0;32m3\u001b[0m\n\u001b[0;31m    my_arr =\u001b[0m\n\u001b[0m             ^\u001b[0m\n\u001b[0;31mSyntaxError\u001b[0m\u001b[0;31m:\u001b[0m invalid syntax\n"
     ]
    }
   ],
   "source": [
    "# write your code here\n",
    "\n",
    "my_arr = \n",
    "\n",
    "print(my_arr)\n",
    "print(type(my_arr))"
   ]
  },
  {
   "cell_type": "markdown",
   "metadata": {
    "id": "KOdzOazAxCDp"
   },
   "source": [
    "## 1.3 Array Attributes "
   ]
  },
  {
   "cell_type": "code",
   "execution_count": null,
   "metadata": {
    "id": "U-zG5oCZHDpD"
   },
   "outputs": [],
   "source": [
    "a = np.array([[1, 2, 3],\n",
    "              [4, 5, 6],\n",
    "              [7, 8, 9],\n",
    "              [10,11,12]])\n"
   ]
  },
  {
   "cell_type": "markdown",
   "metadata": {},
   "source": [
    "### 1.3.1 Number of elements in the array"
   ]
  },
  {
   "cell_type": "code",
   "execution_count": null,
   "metadata": {
    "id": "19l3UOS2IFMb"
   },
   "outputs": [],
   "source": [
    "print('a.size = {} ({} elements)'.format(a.size, a.size))"
   ]
  },
  {
   "cell_type": "markdown",
   "metadata": {},
   "source": [
    "### 1.3.2 Number of array dimensions"
   ]
  },
  {
   "cell_type": "code",
   "execution_count": null,
   "metadata": {},
   "outputs": [],
   "source": [
    "print('a.ndim = {}'.format(a.ndim))"
   ]
  },
  {
   "cell_type": "markdown",
   "metadata": {},
   "source": [
    "### 1.3.3 Array shape (i.e., number of elements in each dimension)"
   ]
  },
  {
   "cell_type": "code",
   "execution_count": null,
   "metadata": {},
   "outputs": [],
   "source": [
    "print('a.shape = {} ({} rows, {} columns)'.format(a.shape, a.shape[0], a.shape[1]))"
   ]
  },
  {
   "cell_type": "markdown",
   "metadata": {},
   "source": [
    "### 1.3.4 Data type of the array's elements"
   ]
  },
  {
   "cell_type": "code",
   "execution_count": null,
   "metadata": {},
   "outputs": [],
   "source": [
    "print('a.dtype = {} (64-bit integer)'.format(a.dtype))"
   ]
  },
  {
   "cell_type": "markdown",
   "metadata": {
    "id": "N0dVeMefWZS0"
   },
   "source": [
    "### Exercise 2\n",
    "\n",
    "Check the attributes of the array you created `my_arr` in Exercise 1"
   ]
  },
  {
   "cell_type": "code",
   "execution_count": 7,
   "metadata": {
    "id": "XcUq_m7tWYwH"
   },
   "outputs": [],
   "source": [
    "# write your code here\n",
    "\n"
   ]
  },
  {
   "cell_type": "markdown",
   "metadata": {
    "id": "EZwvtS_KxCDs"
   },
   "source": [
    " ## 1.4 Arrays Operations\n"
   ]
  },
  {
   "cell_type": "markdown",
   "metadata": {
    "id": "AdvhFeL9xCEA"
   },
   "source": [
    " ### a. Reshape an Array\n",
    " The shape of an array can be changed by\n",
    " <ul>\n",
    "     <li> a.shape = (): the shape of a is actually changed\n",
    "     <li> a.resize(): the shape of a is actually changed\n",
    "     <li> a.reshape(): the shape of a does not change\n",
    " </ul>"
   ]
  },
  {
   "cell_type": "markdown",
   "metadata": {},
   "source": [
    "#### shape"
   ]
  },
  {
   "cell_type": "code",
   "execution_count": 8,
   "metadata": {
    "id": "0GnMDIdJOISb"
   },
   "outputs": [
    {
     "name": "stdout",
     "output_type": "stream",
     "text": [
      "a = [ 0  1  2  3  4  5  6  7  8  9 10 11 12 13 14 15 16 17 18 19 20 21 22 23]\n"
     ]
    }
   ],
   "source": [
    "a = np.arange(24)\n",
    "print('a =', a)"
   ]
  },
  {
   "cell_type": "code",
   "execution_count": 9,
   "metadata": {
    "id": "wWLbjMdqOM06"
   },
   "outputs": [
    {
     "name": "stdout",
     "output_type": "stream",
     "text": [
      "After a.shape = (2, 12), a =\n",
      "[[ 0  1  2  3  4  5  6  7  8  9 10 11]\n",
      " [12 13 14 15 16 17 18 19 20 21 22 23]]\n"
     ]
    }
   ],
   "source": [
    "a.shape = (2, 12)\n",
    "print('After a.shape = (2, 12), a =')\n",
    "print(a)"
   ]
  },
  {
   "cell_type": "markdown",
   "metadata": {},
   "source": [
    "#### resize"
   ]
  },
  {
   "cell_type": "code",
   "execution_count": 10,
   "metadata": {
    "id": "KLpKvNeYOWLG"
   },
   "outputs": [
    {
     "name": "stdout",
     "output_type": "stream",
     "text": [
      "After a.resize(4, 6), a =\n",
      "[[ 0  1  2  3  4  5]\n",
      " [ 6  7  8  9 10 11]\n",
      " [12 13 14 15 16 17]\n",
      " [18 19 20 21 22 23]]\n"
     ]
    }
   ],
   "source": [
    "a.resize(4, 6)\n",
    "print('After a.resize(4, 6), a =')\n",
    "print(a)"
   ]
  },
  {
   "cell_type": "markdown",
   "metadata": {},
   "source": [
    "#### reshape"
   ]
  },
  {
   "cell_type": "code",
   "execution_count": 11,
   "metadata": {
    "id": "C0SrPTPPxCEB"
   },
   "outputs": [
    {
     "name": "stdout",
     "output_type": "stream",
     "text": [
      "After a.reshape(3, 8), b =\n",
      "[[ 0  1  2  3  4  5  6  7]\n",
      " [ 8  9 10 11 12 13 14 15]\n",
      " [16 17 18 19 20 21 22 23]]\n",
      "\n",
      "After a.reshape(3, 8), a =\n",
      "[[ 0  1  2  3  4  5]\n",
      " [ 6  7  8  9 10 11]\n",
      " [12 13 14 15 16 17]\n",
      " [18 19 20 21 22 23]]\n"
     ]
    }
   ],
   "source": [
    "b = a.reshape(3, 8)\n",
    "print('After a.reshape(3, 8), b =')\n",
    "print(b)\n",
    "print()\n",
    "print('After a.reshape(3, 8), a =')\n",
    "print(a)"
   ]
  },
  {
   "cell_type": "markdown",
   "metadata": {
    "id": "ut4ihcHAX_FN"
   },
   "source": [
    "### Exercise 3\n",
    "\n",
    "Use different methods to reshape your array `my_arr` in the code cell below.\n",
    "\n",
    "Feel free to create more cells if needed. Run the cells after you finish coding"
   ]
  },
  {
   "cell_type": "code",
   "execution_count": 12,
   "metadata": {
    "id": "YUuDo9WqYPL7"
   },
   "outputs": [],
   "source": [
    "# write your code here\n",
    "\n"
   ]
  },
  {
   "cell_type": "markdown",
   "metadata": {
    "id": "hUZPUSl6RKzm"
   },
   "source": [
    " ### b. Indexing"
   ]
  },
  {
   "cell_type": "markdown",
   "metadata": {
    "id": "7BdJDU-vRKzm"
   },
   "source": [
    "#### One-dimensional array\n",
    " - One-dimensional array is very **similar** to python lists\n",
    " - Array elements can be refered to by their indices. Also, array index starts at 0"
   ]
  },
  {
   "cell_type": "code",
   "execution_count": 13,
   "metadata": {
    "id": "7MTicQbsZ-aA"
   },
   "outputs": [
    {
     "name": "stdout",
     "output_type": "stream",
     "text": [
      "a = [0 1 2 3 4 5]\n"
     ]
    }
   ],
   "source": [
    "a = np.array([0, 1, 2, 3, 4, 5])\n",
    "print('a = {}'.format(a))"
   ]
  },
  {
   "cell_type": "code",
   "execution_count": 14,
   "metadata": {
    "id": "Y6tfSbCEaHHK"
   },
   "outputs": [
    {
     "name": "stdout",
     "output_type": "stream",
     "text": [
      "a[0] = 0\n",
      "a[1] = 1\n",
      "a[2] = 2\n",
      "a[3] = 3\n",
      "a[4] = 4\n",
      "a[5] = 5\n"
     ]
    }
   ],
   "source": [
    "for i in range(0, a.size):\n",
    "    print('a[{}] = {}'.format(i, a[i]))"
   ]
  },
  {
   "cell_type": "markdown",
   "metadata": {
    "id": "3si5ldIgRKzn"
   },
   "source": [
    "#### Multi-dimensional array\n",
    " - Element can be indexed given indices for each axis"
   ]
  },
  {
   "cell_type": "code",
   "execution_count": 15,
   "metadata": {
    "id": "76QFBmbpRKzn"
   },
   "outputs": [
    {
     "name": "stdout",
     "output_type": "stream",
     "text": [
      "b = \n",
      "[[ 0  1  2  3]\n",
      " [10 11 12 13]\n",
      " [20 21 22 23]\n",
      " [30 31 32 33]]\n",
      "b[2,3] = 23\n"
     ]
    }
   ],
   "source": [
    "b = np.array([[0, 1, 2, 3],\n",
    "              [10, 11, 12, 13],\n",
    "              [20, 21, 22, 23],\n",
    "              [30, 31, 32, 33]]\n",
    ")\n",
    "print('b = ')\n",
    "print(b)\n",
    "\n",
    "print('b[2,3] = {}'.format(b[2,3]))"
   ]
  },
  {
   "cell_type": "markdown",
   "metadata": {
    "id": "GDphz4iLRKzo"
   },
   "source": [
    "### c. Slicing\n",
    " Slicing operation is very similar to regular python list. We just need to consider each axis in turn.\n",
    " If you omit any values, NumPy will use default values.\n",
    " For example, consider below example, since we omit both starting and ending indices along the first axis, the default values will be used."
   ]
  },
  {
   "cell_type": "code",
   "execution_count": 16,
   "metadata": {
    "id": "YGG5-I5PRKzo"
   },
   "outputs": [
    {
     "name": "stdout",
     "output_type": "stream",
     "text": [
      "The next line is equivalent to b[0:4, 0]\n",
      "b[ : , 0] = [ 0 10 20 30]\n"
     ]
    }
   ],
   "source": [
    "print('The next line is equivalent to b[0:4, 0]')\n",
    "print('b[ : , 0] = {}'.format(b[ : , 0]))"
   ]
  },
  {
   "cell_type": "markdown",
   "metadata": {
    "id": "FHwgj5ghRKzo"
   },
   "source": [
    " Missing axis indices will be considered as complete slices.\n",
    " \n",
    " For example, the below example omit the second axis."
   ]
  },
  {
   "cell_type": "code",
   "execution_count": 17,
   "metadata": {
    "id": "S5fmEp-ERKzo"
   },
   "outputs": [
    {
     "name": "stdout",
     "output_type": "stream",
     "text": [
      "b[3] = [30 31 32 33]\n",
      "This is equivalent to b[3,:] = [30 31 32 33]\n"
     ]
    }
   ],
   "source": [
    "print('b[3] = {}'.format(b[3]))\n",
    "print('This is equivalent to b[3,:] = {}'.format(b[3,:]))"
   ]
  },
  {
   "cell_type": "markdown",
   "metadata": {
    "id": "LPI51H9yRKzo"
   },
   "source": [
    "### Exercise 4.1 - One-dimensional array\n",
    "\n",
    "Practice the indexing examples in the code cell below.\n",
    "\n",
    "hint:\n",
    "\n",
    "- a[start:end:step]\n",
    "- a[end] is not included in a[start:end:step]"
   ]
  },
  {
   "cell_type": "code",
   "execution_count": 18,
   "metadata": {
    "id": "mb-iT_r_RKzo"
   },
   "outputs": [
    {
     "name": "stdout",
     "output_type": "stream",
     "text": [
      "a = [0 1 2 3 4 5 6 7 8 9]\n",
      "a[0] = 0\n"
     ]
    }
   ],
   "source": [
    "a = np.arange(10)\n",
    "print('a =', a)\n",
    "print('a[0] =', a[0])"
   ]
  },
  {
   "cell_type": "code",
   "execution_count": 19,
   "metadata": {},
   "outputs": [
    {
     "name": "stdout",
     "output_type": "stream",
     "text": [
      "a[:9:] =  [0 1 2 3 4 5 6 7 8]\n"
     ]
    }
   ],
   "source": [
    "# before running the cell, \n",
    "# guess what is the output\n",
    "print('a[:9:] = ', a[:9:])"
   ]
  },
  {
   "cell_type": "code",
   "execution_count": 20,
   "metadata": {},
   "outputs": [
    {
     "name": "stdout",
     "output_type": "stream",
     "text": [
      "a[0:5:2] =  [0 2 4]\n"
     ]
    }
   ],
   "source": [
    "# before running the cell, \n",
    "# guess what is the output\n",
    "print('a[0:5:2] = ', a[0:5:2])"
   ]
  },
  {
   "cell_type": "markdown",
   "metadata": {},
   "source": [
    "### Exercise 4.2 - Multi-dimensional array\n",
    "\n",
    "Practice the indexing examples in the code cell below. "
   ]
  },
  {
   "cell_type": "code",
   "execution_count": 21,
   "metadata": {},
   "outputs": [
    {
     "name": "stdout",
     "output_type": "stream",
     "text": [
      "\n",
      "b =\n",
      " [[ 1  2  3  4  5]\n",
      " [ 6  7  8  9 10]]\n",
      "b[1, 3] = 9\n",
      "b[1, ::2] = [ 6  8 10]\n",
      "b[1, :4:2] = [6 8]\n",
      "b[1, 1:4:2] = [7 9]\n"
     ]
    }
   ],
   "source": [
    "b = np.array([[1, 2, 3, 4, 5],\n",
    "              [6, 7, 8, 9, 10]])\n",
    "print('\\nb =\\n', b)\n",
    "print('b[1, 3] =', b[1, 3])\n",
    "\n",
    "# before running the cell, \n",
    "# guess what is the output\n",
    "\n",
    "print('b[1, ::2] =', b[1, ::2])\n",
    "print('b[1, :4:2] =', b[1, :4:2])\n",
    "print('b[1, 1:4:2] =', b[1, 1:4:2])"
   ]
  },
  {
   "cell_type": "markdown",
   "metadata": {
    "id": "FT3KFhNWez_C"
   },
   "source": [
    "### d. Filtering/Masking\n",
    "\n",
    "Retrieving some elements out of an existing array and generating a new array out of them is called filtering"
   ]
  },
  {
   "cell_type": "code",
   "execution_count": 22,
   "metadata": {
    "id": "xxW5z2Gimnlq"
   },
   "outputs": [
    {
     "name": "stdout",
     "output_type": "stream",
     "text": [
      "[102 103]\n"
     ]
    }
   ],
   "source": [
    "arr = np.array([101, 102, 103, 104])\n",
    "mask = [False, True, True, False]\n",
    "newarr = arr[mask]\n",
    "\n",
    "print(newarr)"
   ]
  },
  {
   "cell_type": "code",
   "execution_count": 23,
   "metadata": {
    "id": "Auzfu7r0nMbu"
   },
   "outputs": [
    {
     "name": "stdout",
     "output_type": "stream",
     "text": [
      "[False False  True  True]\n",
      "[103 104]\n"
     ]
    }
   ],
   "source": [
    "arr_filter = arr > 102\n",
    "newarr = arr[arr_filter]\n",
    "\n",
    "print(arr_filter)\n",
    "print(newarr)"
   ]
  },
  {
   "cell_type": "markdown",
   "metadata": {
    "id": "8B6LRKtzfkyG"
   },
   "source": [
    "### Exercise 5\n",
    "\n",
    "Filter some elements from your array `my_arr`. \n",
    "\n",
    "Feel free to create more cells if needed. Run the cells after you finish coding"
   ]
  },
  {
   "cell_type": "code",
   "execution_count": 24,
   "metadata": {
    "id": "GCk5IJd_f-cy"
   },
   "outputs": [],
   "source": [
    "# write your code here\n"
   ]
  },
  {
   "cell_type": "markdown",
   "metadata": {
    "id": "t4KwPfFixCD1"
   },
   "source": [
    " ### e. Arithmetic Operations\n",
    "\n",
    "Arithemetic operations on arrays are element-wise operations."
   ]
  },
  {
   "cell_type": "code",
   "execution_count": 25,
   "metadata": {
    "id": "kH05IvUpxCD2"
   },
   "outputs": [
    {
     "name": "stdout",
     "output_type": "stream",
     "text": [
      "a = [10 20 40]\n",
      "b = [0.99567625 0.45493724 0.82538639]\n"
     ]
    }
   ],
   "source": [
    "a = np.array([10, 20, 40])\n",
    "b = np.random.random(3) # Return random floats in the half-open interval [0.0, 1.0).\n",
    "print('a = {}'.format(a))\n",
    "print('b = {}'.format(b))"
   ]
  },
  {
   "cell_type": "markdown",
   "metadata": {
    "id": "xJB04g-lxCD4"
   },
   "source": [
    " Arithmetic operators are applied element-wise."
   ]
  },
  {
   "cell_type": "code",
   "execution_count": 26,
   "metadata": {
    "id": "cbVsMG-CxCD5"
   },
   "outputs": [
    {
     "name": "stdout",
     "output_type": "stream",
     "text": [
      "a + b = [10.99567625 20.45493724 40.82538639]\n",
      "a - b [ 9.00432375 19.54506276 39.17461361]\n",
      "abs(b - a) [ 9.00432375 19.54506276 39.17461361]\n",
      "a < b = [False False False]\n"
     ]
    }
   ],
   "source": [
    "print('a + b =', a + b)\n",
    "print('a - b', a - b)\n",
    "print('abs(b - a)', np.abs(b - a))\n",
    "print('a < b =', a < b)"
   ]
  },
  {
   "cell_type": "markdown",
   "metadata": {
    "id": "SyJ_sC7vxCD7"
   },
   "source": [
    " ### f. Dot Product\n",
    "\n",
    " **Note:** when operating on matrices,  * operates elementwise. If you needs to apply dot product between 2 matrices (say A and B), the correct syntax is\n",
    " ```python\n",
    " A.dot(B)\n",
    " ```\n",
    " or\n",
    " ```python\n",
    " np.dot(A, B)\n",
    " ```"
   ]
  },
  {
   "cell_type": "code",
   "execution_count": 27,
   "metadata": {
    "id": "m0lwJRbXs7Dz"
   },
   "outputs": [
    {
     "name": "stdout",
     "output_type": "stream",
     "text": [
      "A:\n",
      "[[1 0]\n",
      " [0 1]]\n",
      "B:\n",
      "[[4 1]\n",
      " [2 2]]\n"
     ]
    }
   ],
   "source": [
    "A = np.array([[1, 0],\n",
    "              [0, 1]])\n",
    "B = np.array([[4, 1],\n",
    "              [2, 2]])\n",
    "print('A:')\n",
    "print(A)\n",
    "print('B:')\n",
    "print(B)"
   ]
  },
  {
   "cell_type": "code",
   "execution_count": 28,
   "metadata": {
    "id": "BxyXvHn3tZ3F"
   },
   "outputs": [
    {
     "name": "stdout",
     "output_type": "stream",
     "text": [
      "A * B =\n",
      "[[4 0]\n",
      " [0 2]]\n"
     ]
    }
   ],
   "source": [
    "print('A * B =')\n",
    "print(A * B)"
   ]
  },
  {
   "cell_type": "code",
   "execution_count": 29,
   "metadata": {
    "id": "tJBsf4Z1tokc"
   },
   "outputs": [
    {
     "name": "stdout",
     "output_type": "stream",
     "text": [
      "dot product of A and B =\n",
      "[[4 1]\n",
      " [2 2]]\n"
     ]
    }
   ],
   "source": [
    "print('dot product of A and B =')\n",
    "print(np.dot(A, B))"
   ]
  },
  {
   "cell_type": "markdown",
   "metadata": {
    "id": "JA6Wm5M2xCD7"
   },
   "source": [
    " ### g. Unary operations\n",
    "\n",
    " The operations act on only one operand."
   ]
  },
  {
   "cell_type": "code",
   "execution_count": 30,
   "metadata": {
    "id": "zAzc6nVIxCD8"
   },
   "outputs": [
    {
     "name": "stdout",
     "output_type": "stream",
     "text": [
      "sin(a) = [-0.54402111  0.91294525  0.74511316]\n",
      "sqrt(a) = [3.16227766 4.47213595 6.32455532]\n",
      "power(a) = [ 1000  8000 64000]\n",
      "sum(a) = 70\n",
      "mean(a) = 23.333333333333332\n",
      "min(a) =  10\n",
      "max(a) =  40\n"
     ]
    }
   ],
   "source": [
    "print('sin(a) =', np.sin(a))\n",
    "print('sqrt(a) =', np.sqrt(a))\n",
    "print('power(a) =', np.power(a, 3))\n",
    "print('sum(a) =', np.sum(a))\n",
    "print('mean(a) =', np.mean(a))\n",
    "print('min(a) = ', np.min(a))\n",
    "print('max(a) = ', np.max(a))"
   ]
  },
  {
   "cell_type": "markdown",
   "metadata": {
    "id": "qOSW-U_PxCD9"
   },
   "source": [
    " Some of the above operations has alternative syntaxs."
   ]
  },
  {
   "cell_type": "code",
   "execution_count": 31,
   "metadata": {
    "id": "lWQrrDQlxCD-"
   },
   "outputs": [
    {
     "name": "stdout",
     "output_type": "stream",
     "text": [
      "sum(a) = 70\n",
      "mean(a) = 23.333333333333332\n",
      "min(a) =  10\n",
      "max(a) =  40\n"
     ]
    }
   ],
   "source": [
    "print('sum(a) =', a.sum())\n",
    "print('mean(a) =', a.mean())\n",
    "print('min(a) = ', a.min())\n",
    "print('max(a) = ', a.max())"
   ]
  },
  {
   "cell_type": "markdown",
   "metadata": {
    "id": "iFqaTUhxxCFX"
   },
   "source": [
    "# 2 Scipy\n"
   ]
  },
  {
   "cell_type": "markdown",
   "metadata": {
    "id": "Cj9aLGDV7SWC"
   },
   "source": [
    "## 2.1 What is Scipy\n",
    "\n",
    "Scipy is a collection of mathematical algorithms and functions built on NumPy. It is organized into subpackages covering various computing domains:\n",
    " <ul>\n",
    "     <li> Cluster: clustering algorithms\n",
    "     <li> Fftpack: fast Fourier Transform algorithms\n",
    "     <li> Linalg: linear algebra\n",
    "     <li> Optimize: optimization algorithms\n",
    "     <li> Sparse: sparse matrices and associated algorithms\n",
    "     <li> and more ...\n",
    " </ul>\n",
    " For a complete and thorough introduction to SciPy, visit this [link](https://docs.scipy.org/doc/scipy/tutorial/general.html)"
   ]
  },
  {
   "cell_type": "markdown",
   "metadata": {
    "id": "I7T5QOeExCFY"
   },
   "source": [
    "## 2.2 Scipy Linear Algebra\n",
    " Sicpy.linalg provides all functions in numpy.linalg, plus some other more advanced functions. [documentation](https://docs.scipy.org/doc/scipy/reference/linalg.html#module-scipy.linalg)\n",
    " <ul>\n",
    "     <li> Scipy.linalg is preferred unless you do not want the dependency on scipy which requires a Fortran compiler since it is a warpping of Fortran LAPACK using f2py.\n",
    "     <li> Scipy.linalg is always compiled with BLAS/LAPACK support (faster), while this is optional for numpy.\n",
    "     <li> All of the BLAS/LAPACK functions are available to use in scipy.\n",
    " </ul>\n"
   ]
  },
  {
   "cell_type": "markdown",
   "metadata": {
    "id": "p-VcN4Vf9asp"
   },
   "source": [
    "### a. Matrix Inverse\n",
    "\n",
    "The inverse of a matrix A is the matrix B, such that AB = I, where I is the identity matrix consisting of ones down the main diagonal. Usually, $B = A^{-1}$ is denoted  . In SciPy, the matrix inverse of the NumPy array, A, is obtained using linalg.inv (A)"
   ]
  },
  {
   "cell_type": "markdown",
   "metadata": {
    "id": "ydg4f3M7-b22"
   },
   "source": [
    "Let's first import `scipy.linalg`"
   ]
  },
  {
   "cell_type": "code",
   "execution_count": 32,
   "metadata": {
    "id": "WJ64t_aN-Wwb"
   },
   "outputs": [],
   "source": [
    "from scipy import linalg"
   ]
  },
  {
   "cell_type": "code",
   "execution_count": 33,
   "metadata": {
    "id": "ubaRz-ul-ycQ"
   },
   "outputs": [],
   "source": [
    "A = np.array([[1,3,5],\n",
    "              [2,5,1],\n",
    "              [2,3,8]])"
   ]
  },
  {
   "cell_type": "code",
   "execution_count": 34,
   "metadata": {
    "id": "ZJB9_dC0-3bt"
   },
   "outputs": [
    {
     "data": {
      "text/plain": [
       "array([[-1.48,  0.36,  0.88],\n",
       "       [ 0.56,  0.08, -0.36],\n",
       "       [ 0.16, -0.12,  0.04]])"
      ]
     },
     "execution_count": 34,
     "metadata": {},
     "output_type": "execute_result"
    }
   ],
   "source": [
    "A_inv = linalg.inv(A)\n",
    "A_inv"
   ]
  },
  {
   "cell_type": "markdown",
   "metadata": {
    "id": "x15m1lWe--gh"
   },
   "source": [
    "Let's verify the result by calculating A dot A_inverse"
   ]
  },
  {
   "cell_type": "code",
   "execution_count": 35,
   "metadata": {
    "id": "JqNz1soy-76M"
   },
   "outputs": [
    {
     "data": {
      "text/plain": [
       "array([[ 1.00000000e+00, -1.11022302e-16,  4.85722573e-17],\n",
       "       [ 3.05311332e-16,  1.00000000e+00,  7.63278329e-17],\n",
       "       [ 2.22044605e-16, -1.11022302e-16,  1.00000000e+00]])"
      ]
     },
     "execution_count": 35,
     "metadata": {},
     "output_type": "execute_result"
    }
   ],
   "source": [
    "B = A.dot(A_inv)\n",
    "B"
   ]
  },
  {
   "cell_type": "code",
   "execution_count": 36,
   "metadata": {
    "id": "9CKYc_ZMl1H3"
   },
   "outputs": [
    {
     "data": {
      "text/plain": [
       "array([[1., 0., 0.],\n",
       "       [0., 1., 0.],\n",
       "       [0., 0., 1.]])"
      ]
     },
     "execution_count": 36,
     "metadata": {},
     "output_type": "execute_result"
    }
   ],
   "source": [
    "tolerance = 1e-10\n",
    "B[abs(B) < tolerance] = 0\n",
    "B"
   ]
  },
  {
   "cell_type": "markdown",
   "metadata": {
    "id": "Rlm6r4ni9X2K"
   },
   "source": [
    "### b. Solving a linear system\n",
    "\n",
    "For example, scipy.linalg.solve(A, b) (faster than linalg.inv(A).dot(b)) can be used to solve the following equations:<br>\n",
    " ```\n",
    "  x + 3y = 10\n",
    " 2x + 5y = 20\n",
    " ```"
   ]
  },
  {
   "cell_type": "code",
   "execution_count": 37,
   "metadata": {
    "id": "jAFd9eldxCFY"
   },
   "outputs": [
    {
     "name": "stdout",
     "output_type": "stream",
     "text": [
      "A =\n",
      "[[1 3]\n",
      " [2 5]]\n",
      "\n",
      "b =\n",
      "[[10]\n",
      " [20]]\n",
      "\n",
      "The solution of the equations Ax=b is linalg.solve(A, b) =\n",
      "[[10.]\n",
      " [ 0.]]\n"
     ]
    }
   ],
   "source": [
    "A = np.array([\n",
    "    [1, 3], \n",
    "    [2, 5]\n",
    "])\n",
    "\n",
    "b = np.array([\n",
    "    [10], \n",
    "    [20]\n",
    "])\n",
    "\n",
    "print('A =')\n",
    "print(A)\n",
    "print('\\nb =')\n",
    "print(b)\n",
    "print('\\nThe solution of the equations Ax=b is linalg.solve(A, b) =')\n",
    "print(linalg.solve(A, b))"
   ]
  },
  {
   "cell_type": "markdown",
   "metadata": {
    "id": "pkFPf6wJmVtA"
   },
   "source": [
    "### Exercise 6\n",
    "\n",
    "Solve the following equations in the code cell below.\n",
    "\n",
    " ```\n",
    "  x + 3y + 5z = 10\n",
    " 2x + 5y +  z = 20\n",
    " 2x + 3y + 8z = 3\n",
    "```"
   ]
  },
  {
   "cell_type": "code",
   "execution_count": 38,
   "metadata": {
    "id": "d5ICtkBooMSf"
   },
   "outputs": [],
   "source": [
    "# write your code here\n",
    "\n"
   ]
  },
  {
   "cell_type": "markdown",
   "metadata": {
    "id": "GHtCe274xCFZ"
   },
   "source": [
    "### c. Matrix Determinant\n",
    "\n",
    "The determinant of a square matrix A is often denoted |A| and is a quantity often used in linear algebra. \n",
    "Suppose $a_{ij}$ are the elements of the matrix A and let $M_{ij} = |A_{ij}|$ be the determinant of the matrix left by removing the $i^{th}$ row and $j^{th}$ column from A. Then, for any row $i$\n",
    "\n",
    "\n",
    "<center>$|A| = \\sum_{j} (-1)^{i+j}a_{ij}M_{ij}$</center>\n",
    "\n",
    "\n",
    "\n",
    "**Example:** Compute the determinant of square matrix. "
   ]
  },
  {
   "cell_type": "code",
   "execution_count": 39,
   "metadata": {
    "id": "ugnaH2OKxCFa"
   },
   "outputs": [
    {
     "name": "stdout",
     "output_type": "stream",
     "text": [
      "a = \n",
      "[[1 2]\n",
      " [3 4]]\n",
      "Determinant of a = -2.0\n"
     ]
    }
   ],
   "source": [
    "a = np.array([[1,2], \n",
    "              [3,4]])\n",
    "determinant = linalg.det(a)\n",
    "\n",
    "print(\"a = \")\n",
    "print(a)\n",
    "print(\"Determinant of a = {}\".format(determinant))"
   ]
  },
  {
   "cell_type": "markdown",
   "metadata": {
    "id": "Y5oEN9IbBvc-"
   },
   "source": [
    "### d. Compute Norms\n",
    "\n",
    "Matrix and vector norms can also be computed with SciPy. A wide range of norm definitions are available using different parameters to the order argument of linalg.norm. This function takes a rank-1 (vectors) or a rank-2 (matrices) array and an optional order argument (default is 2). Based on these inputs, a vector or matrix norm of the requested order is computed."
   ]
  },
  {
   "cell_type": "code",
   "execution_count": 40,
   "metadata": {
    "id": "-HPDMxRWCt6g"
   },
   "outputs": [],
   "source": [
    "A = np.array([[1,2],\n",
    "              [3,4]])"
   ]
  },
  {
   "cell_type": "code",
   "execution_count": 41,
   "metadata": {},
   "outputs": [
    {
     "data": {
      "text/plain": [
       "array([[1, 2],\n",
       "       [3, 4]])"
      ]
     },
     "execution_count": 41,
     "metadata": {},
     "output_type": "execute_result"
    }
   ],
   "source": [
    "A"
   ]
  },
  {
   "cell_type": "code",
   "execution_count": 42,
   "metadata": {
    "id": "PGo3xuzJC98V"
   },
   "outputs": [
    {
     "data": {
      "text/plain": [
       "5.477225575051661"
      ]
     },
     "execution_count": 42,
     "metadata": {},
     "output_type": "execute_result"
    }
   ],
   "source": [
    "linalg.norm(A)"
   ]
  },
  {
   "cell_type": "code",
   "execution_count": 43,
   "metadata": {
    "id": "aDJtncM6DKpl"
   },
   "outputs": [
    {
     "data": {
      "text/plain": [
       "6.0"
      ]
     },
     "execution_count": 43,
     "metadata": {},
     "output_type": "execute_result"
    }
   ],
   "source": [
    "linalg.norm(A,1) # L1 norm (max column sum)"
   ]
  },
  {
   "cell_type": "code",
   "execution_count": 44,
   "metadata": {
    "id": "7_woM4xBDRPA"
   },
   "outputs": [
    {
     "data": {
      "text/plain": [
       "4.0"
      ]
     },
     "execution_count": 44,
     "metadata": {},
     "output_type": "execute_result"
    }
   ],
   "source": [
    "linalg.norm(A,-1) # (min column sum)"
   ]
  },
  {
   "cell_type": "code",
   "execution_count": 45,
   "metadata": {
    "id": "Zvq75OR7DqUw"
   },
   "outputs": [
    {
     "data": {
      "text/plain": [
       "7.0"
      ]
     },
     "execution_count": 45,
     "metadata": {},
     "output_type": "execute_result"
    }
   ],
   "source": [
    "linalg.norm(A,np.inf) # (maximum of the absolute row sums)"
   ]
  },
  {
   "cell_type": "code",
   "execution_count": 46,
   "metadata": {
    "id": "_9mfTmzmETu1"
   },
   "outputs": [
    {
     "data": {
      "text/plain": [
       "3.0"
      ]
     },
     "execution_count": 46,
     "metadata": {},
     "output_type": "execute_result"
    }
   ],
   "source": [
    "linalg.norm(A,-np.inf)"
   ]
  },
  {
   "cell_type": "markdown",
   "metadata": {
    "id": "XLxrp21nxCFk"
   },
   "source": [
    " # 3 Errors in Scientific Computing"
   ]
  },
  {
   "cell_type": "markdown",
   "metadata": {
    "id": "-xgF04DnFxcL"
   },
   "source": [
    " ## 3.1 Precision for Floating Point Numbers\n",
    " A floating point number is stored with finite bits in a computer\n",
    " <ul>\n",
    "     <li>A single-precision floating point number is stored as 32 bits\n",
    "     <li>A double-precision floating point number is stored as 64 bits\n",
    "     <li>A floating point number normally is not displayed accurately. It is displayed with fewer digits for better readability.\n",
    " <ul>"
   ]
  },
  {
   "cell_type": "code",
   "execution_count": 47,
   "metadata": {
    "id": "imvA5uq_xCFl"
   },
   "outputs": [
    {
     "name": "stdout",
     "output_type": "stream",
     "text": [
      "[7.8  7.85 7.9  7.95 8.   8.05 8.1  8.15 8.2  8.25 8.3  8.35 8.4 ]\n",
      "a[12] is actually 8.3999999999999985789145284797996282577514648437500000000\n"
     ]
    }
   ],
   "source": [
    "a = np.arange(7.8, 8.4, 0.05)\n",
    "print(a)\n",
    "print('a[12] is actually', '{0:.55f}'.format(a[12]))"
   ]
  },
  {
   "cell_type": "markdown",
   "metadata": {
    "id": "OgZr6uqzxCFl"
   },
   "source": [
    " ## 3.2 Error for Comparing Floating Point Numbers\n",
    " The result may surprise you when two floating point numbers are compared"
   ]
  },
  {
   "cell_type": "code",
   "execution_count": 48,
   "metadata": {
    "id": "8ou3ZNnjxCFm"
   },
   "outputs": [
    {
     "name": "stdout",
     "output_type": "stream",
     "text": [
      "False\n",
      "0.1 is actually stored as 0.1000000000000000055511151231257827021181583404541015625\n",
      "0.3 is actually stored as 0.2999999999999999888977697537484345957636833190917968750\n",
      "0.1 + 0.1 + 0.1 is actually stored as 0.3000000000000000444089209850062616169452667236328125000\n"
     ]
    }
   ],
   "source": [
    "print(0.1 + 0.1 + 0.1 == 0.3)\n",
    "print('0.1 is actually stored as', '{0:.55f}'.format(0.1))\n",
    "print('0.3 is actually stored as', '{0:.55f}'.format(0.3))\n",
    "print('0.1 + 0.1 + 0.1 is actually stored as',\n",
    "      '{0:.55f}'.format(0.1 + 0.1 + 0.1))"
   ]
  },
  {
   "cell_type": "markdown",
   "metadata": {
    "id": "QEWjlc6_xCFm"
   },
   "source": [
    " How to handle issues like this?\n",
    "\n",
    " This cannot be covered in this course. More study on numeric computation is needed. A simple approach is to claim that 0.1 + 0.1 + 0.1 == 0.3 is True if abs(0.1 + 0.1 + 0.1 - 0.3) < epsilon (a small number, e.g., 0.000001). Numpy provides a function allclose() to check whether two numbers/arrays are close eough to be considered equal."
   ]
  },
  {
   "cell_type": "code",
   "execution_count": 49,
   "metadata": {
    "id": "Id1QYYEKxCFn"
   },
   "outputs": [
    {
     "data": {
      "text/plain": [
       "True"
      ]
     },
     "execution_count": 49,
     "metadata": {},
     "output_type": "execute_result"
    }
   ],
   "source": [
    "np.allclose(0.1+0.1+0.1, 0.3)"
   ]
  },
  {
   "cell_type": "markdown",
   "metadata": {
    "id": "3_6iSe7mxCFH"
   },
   "source": [
    " # 4 Matplotlib\n",
    " Matplotlib is a python plotting library. It\n",
    " <ul>\n",
    "     <li> Produces publiction quality figures.\n",
    "     <li> Generates plots, histograms, power spectra, bar charts, etc.\n",
    "     <ul>\n",
    "          <li> The pyplot interface of matplotlib provides a Matlab-like interface.\n",
    "          <li> Full control of line styles, font properties, etc. are provided via an object oriented inteface or a set of functions.\n",
    "          <li> Toolkits are availabe: basemap, cartopy, mplot3d, seaboar, ggplot, etc.\n",
    "     </ul>\n",
    " </ul>\n",
    "\n",
    " A figure contains plot elements: plot, label, legend, etc."
   ]
  },
  {
   "cell_type": "code",
   "execution_count": 50,
   "metadata": {
    "id": "1qMMA9PYcjwb"
   },
   "outputs": [],
   "source": [
    "import matplotlib.pyplot as plt\n",
    "%matplotlib inline"
   ]
  },
  {
   "cell_type": "markdown",
   "metadata": {
    "id": "dxdgTUIDcv5j"
   },
   "source": [
    "Use the numpy function `linspace` to generate a simple data array"
   ]
  },
  {
   "cell_type": "code",
   "execution_count": 51,
   "metadata": {
    "id": "N69ol0Qwc3nN"
   },
   "outputs": [],
   "source": [
    "x = np.linspace(0, 5, 10)\n",
    "y = x ** 2"
   ]
  },
  {
   "cell_type": "markdown",
   "metadata": {
    "id": "E1kpOnr0dFF9"
   },
   "source": [
    "## 4.1 Scatter Plot\n",
    "Read and execute the cell below to set up some common figure parameters. "
   ]
  },
  {
   "cell_type": "code",
   "execution_count": 52,
   "metadata": {
    "id": "XNGmUUI4dJRi"
   },
   "outputs": [
    {
     "data": {
      "text/plain": [
       "Text(0, 0.5, 'y-label')"
      ]
     },
     "execution_count": 52,
     "metadata": {},
     "output_type": "execute_result"
    },
    {
     "data": {
      "image/png": "[encoded data removed]",
      "text/plain": [
       "<Figure size 432x288 with 1 Axes>"
      ]
     },
     "metadata": {
      "needs_background": "light"
     },
     "output_type": "display_data"
    }
   ],
   "source": [
    "# demo how it will look like when change the parameters\n",
    "plt.scatter(x, y, s=64, c='blue', marker='p') \n",
    "plt.title(\"title\")\n",
    "plt.xlabel(\"x-label\")\n",
    "plt.ylabel(\"y-label\")"
   ]
  },
  {
   "cell_type": "markdown",
   "metadata": {
    "id": "2YKIdm59ddSq"
   },
   "source": [
    "## 4.2 Line Plot\n",
    "Read and execute the cell below to set up some common figure parameters. "
   ]
  },
  {
   "cell_type": "code",
   "execution_count": 53,
   "metadata": {
    "id": "jnQgXH3ednfJ"
   },
   "outputs": [
    {
     "data": {
      "text/plain": [
       "Text(0, 0.5, 'y-label')"
      ]
     },
     "execution_count": 53,
     "metadata": {},
     "output_type": "execute_result"
    },
    {
     "data": {
      "image/png": "[encoded data removed]",
      "text/plain": [
       "<Figure size 432x288 with 1 Axes>"
      ]
     },
     "metadata": {
      "needs_background": "light"
     },
     "output_type": "display_data"
    }
   ],
   "source": [
    "# demo how it will look like when change the parameters\n",
    "# plt.plot(x, y, linestyle='dotted', color='red', linewidth=4)\n",
    "plt.plot(x, y, color='green', linestyle='dashed',linewidth=2)  \n",
    "plt.title(\"title\")\n",
    "plt.xlabel(\"x-label\")\n",
    "plt.ylabel(\"y-label\")"
   ]
  },
  {
   "cell_type": "markdown",
   "metadata": {
    "id": "lSGMfEegdxbC"
   },
   "source": [
    "## 4.3 Subplot"
   ]
  },
  {
   "cell_type": "markdown",
   "metadata": {
    "id": "GkfjU2gBefAq"
   },
   "source": [
    "### A figure with only one subplot\n",
    "\n",
    "subplots() method without arguments returns a Figure and a single Axes.\n",
    "\n",
    "This is the simplest and recommended way of creating a single Figure and Axes."
   ]
  },
  {
   "cell_type": "code",
   "execution_count": 54,
   "metadata": {
    "id": "s-VGIODAd9Vc"
   },
   "outputs": [
    {
     "data": {
      "text/plain": [
       "Text(0, 0.5, 'y-label')"
      ]
     },
     "execution_count": 54,
     "metadata": {},
     "output_type": "execute_result"
    },
    {
     "data": {
      "image/png": "[encoded data removed]",
      "text/plain": [
       "<Figure size 432x288 with 1 Axes>"
      ]
     },
     "metadata": {
      "needs_background": "light"
     },
     "output_type": "display_data"
    }
   ],
   "source": [
    "fig, ax = plt.subplots()\n",
    "ax.plot(x, y, color='red', linestyle='dashdot',linewidth=2)\n",
    "ax.set_title('one single plot')\n",
    "ax.set_xlabel(\"x-label\")\n",
    "ax.set_ylabel(\"y-label\")\n",
    "# ax.set_facecolor(\"black\")"
   ]
  },
  {
   "cell_type": "markdown",
   "metadata": {
    "id": "qJj0QruUe0AI"
   },
   "source": [
    "### A figure with multiple subplots in vertical direction\n",
    "\n",
    "When the subplots are stacked in one direction only, the returned axs is a 1D numpy array containing the list of created Axes."
   ]
  },
  {
   "cell_type": "code",
   "execution_count": 55,
   "metadata": {
    "id": "edea_fBbe5Xz"
   },
   "outputs": [
    {
     "data": {
      "text/plain": [
       "[<matplotlib.lines.Line2D at 0x2b46f49dfbb0>]"
      ]
     },
     "execution_count": 55,
     "metadata": {},
     "output_type": "execute_result"
    },
    {
     "data": {
      "image/png": "[encoded data removed]",
      "text/plain": [
       "<Figure size 432x288 with 2 Axes>"
      ]
     },
     "metadata": {
      "needs_background": "light"
     },
     "output_type": "display_data"
    }
   ],
   "source": [
    "fig, axs = plt.subplots(2, 1)\n",
    "fig.suptitle('Subplots in vertical direction')\n",
    "axs[0].plot(x, y, color='red', linestyle='solid',linewidth=2)\n",
    "axs[1].plot(x, -y, color='red', linestyle='solid',linewidth=2)"
   ]
  },
  {
   "cell_type": "markdown",
   "metadata": {
    "id": "asMuRToqgD5_"
   },
   "source": [
    "### A figure with multiple subplots in horizontal direction"
   ]
  },
  {
   "cell_type": "code",
   "execution_count": 56,
   "metadata": {
    "id": "MmdKyYbUgIBU"
   },
   "outputs": [
    {
     "data": {
      "text/plain": [
       "[<matplotlib.lines.Line2D at 0x2b46f4a78eb0>]"
      ]
     },
     "execution_count": 56,
     "metadata": {},
     "output_type": "execute_result"
    },
    {
     "data": {
      "image/png": "[encoded data removed]",
      "text/plain": [
       "<Figure size 432x288 with 2 Axes>"
      ]
     },
     "metadata": {
      "needs_background": "light"
     },
     "output_type": "display_data"
    }
   ],
   "source": [
    "fig, axs = plt.subplots(1, 2)\n",
    "fig.suptitle('Subplots in horizontal direction')\n",
    "axs[0].plot(x, y, color='red', linestyle='solid',linewidth=2)\n",
    "axs[1].plot(x, -y, color='red', linestyle='solid',linewidth=2)"
   ]
  },
  {
   "cell_type": "markdown",
   "metadata": {
    "id": "xuRoSIhagQMa"
   },
   "source": [
    "### A figure with multiple subplots in two directions\n",
    "\n",
    "When stacking in two directions, the returned axs is a 2D NumPy array.\n"
   ]
  },
  {
   "cell_type": "code",
   "execution_count": 57,
   "metadata": {
    "id": "y9pUbA2_gWlx"
   },
   "outputs": [
    {
     "data": {
      "image/png": "[encoded data removed]",
      "text/plain": [
       "<Figure size 432x288 with 4 Axes>"
      ]
     },
     "metadata": {
      "needs_background": "light"
     },
     "output_type": "display_data"
    }
   ],
   "source": [
    "fig, axs = plt.subplots(2, 2)\n",
    "axs[0, 0].plot(x, y, color='blue')\n",
    "axs[0, 0].set_title('[0, 0]')\n",
    "axs[0, 1].plot(x, y, color='orange')\n",
    "axs[0, 1].set_title('[0, 1]')\n",
    "axs[1, 0].plot(x, -y, color='green')\n",
    "axs[1, 0].set_title('[1, 0]')\n",
    "axs[1, 1].plot(x, -y, color='red')\n",
    "axs[1, 1].set_title('[1, 1]')\n",
    "\n",
    "# If you have to set parameters for each subplot it's handy to \n",
    "# iterate over all subplots in a 2D grid using for ax in axs.flat:\n",
    "# 1-D iterator over the array of subplots\n",
    "for ax in axs.flat:\n",
    "    ax.set(xlabel='x-label', ylabel='y-label')\n",
    "\n",
    "# Hide x labels and tick labels for top plots and y ticks for right plots.\n",
    "for ax in axs.flat:\n",
    "    ax.label_outer()\n",
    "\n",
    "fig.savefig('subplots.jpeg', dpi=600)"
   ]
  },
  {
   "cell_type": "markdown",
   "metadata": {
    "id": "QzlZIxCchOEL"
   },
   "source": [
    "## 4.4 2D Color Plots\n",
    "\n",
    "Colormaps and contour figures are useful for plotting functions of two variables. In most of these functions we will use a colormap to encode one dimension of the data. There are a number of predefined colormaps. It is relatively straightforward to define custom colormaps. For a list of pre-defined colormaps, see: http://www.scipy.org/Cookbook/Matplotlib/Show_colormaps"
   ]
  },
  {
   "cell_type": "markdown",
   "metadata": {
    "id": "iXaksigEiRxE"
   },
   "source": [
    "This potential function is an application from Physics.  We will be drawing maps of this potential function."
   ]
  },
  {
   "cell_type": "code",
   "execution_count": 58,
   "metadata": {
    "id": "hitfehmLiVBv"
   },
   "outputs": [],
   "source": [
    "alpha = 0.7\n",
    "phi_ext = 2 * np.pi * 0.5\n",
    "\n",
    "def flux_qubit_potential(phi_m, phi_p):\n",
    "    return 2 + alpha - 2 * np.cos(phi_p) * np.cos(phi_m) - alpha * np.cos(phi_ext - 2*phi_p)"
   ]
  },
  {
   "cell_type": "markdown",
   "metadata": {
    "id": "phoo7n0liiXv"
   },
   "source": [
    "Some steps to create a 2D array of values for plotting. \n",
    "\n",
    "1. Use the numpy function `linspace` to generate two simple arrays of increasing angles.\n",
    "\n",
    "2. Use the numpy function `meshgrid` to combine the arrays into a 2D grid. \n",
    "\n",
    "3. Use the flux qubit potential function to assign a value to each point in the grid. \n",
    "\n",
    "Execute the cell."
   ]
  },
  {
   "cell_type": "code",
   "execution_count": 59,
   "metadata": {
    "id": "50txXBNFioWm"
   },
   "outputs": [],
   "source": [
    "phi_m = np.linspace(0, 2*np.pi, 100)\n",
    "phi_p = np.linspace(0, 2*np.pi, 100)\n",
    "X,Y = np.meshgrid(phi_p, phi_m)\n",
    "Z = flux_qubit_potential(X, Y).T"
   ]
  },
  {
   "cell_type": "markdown",
   "metadata": {
    "id": "knTz7eXfjaHM"
   },
   "source": [
    "### pcolor"
   ]
  },
  {
   "cell_type": "code",
   "execution_count": 60,
   "metadata": {
    "id": "TyfV0LiEjB_F"
   },
   "outputs": [
    {
     "name": "stderr",
     "output_type": "stream",
     "text": [
      "<ipython-input-60-b2f7e0c19b7a>:3: MatplotlibDeprecationWarning: shading='flat' when X and Y have the same dimensions as C is deprecated since 3.3.  Either specify the corners of the quadrilaterals with X and Y, or pass shading='auto', 'nearest' or 'gouraud', or set rcParams['pcolor.shading'].  This will become an error two minor releases later.\n",
      "  p = ax.pcolor(X/(2*np.pi), Y/(2*np.pi), Z, vmin=abs(Z).min(), vmax=abs(Z).max())\n"
     ]
    },
    {
     "data": {
      "image/png": "[encoded data removed]",
      "text/plain": [
       "<Figure size 432x288 with 2 Axes>"
      ]
     },
     "metadata": {
      "needs_background": "light"
     },
     "output_type": "display_data"
    }
   ],
   "source": [
    "fig, ax = plt.subplots()\n",
    "\n",
    "p = ax.pcolor(X/(2*np.pi), Y/(2*np.pi), Z, vmin=abs(Z).min(), vmax=abs(Z).max())\n",
    "cb = fig.colorbar(p, ax=ax)"
   ]
  },
  {
   "cell_type": "markdown",
   "metadata": {
    "id": "0I5-Y7-SjdR5"
   },
   "source": [
    "### contour"
   ]
  },
  {
   "cell_type": "code",
   "execution_count": 61,
   "metadata": {
    "id": "qxwEtiWrjMre"
   },
   "outputs": [
    {
     "data": {
      "image/png": "[encoded data removed]",
      "text/plain": [
       "<Figure size 432x288 with 1 Axes>"
      ]
     },
     "metadata": {
      "needs_background": "light"
     },
     "output_type": "display_data"
    }
   ],
   "source": [
    "fig, ax = plt.subplots()\n",
    "\n",
    "cnt = ax.contour(Z, vmin=abs(Z).min(), vmax=abs(Z).max(), extent=[0, 1, 0, 1])"
   ]
  },
  {
   "cell_type": "markdown",
   "metadata": {
    "id": "js6KshSvjmNT"
   },
   "source": [
    "## 4.5 3D figures\n",
    "\n",
    "To use 3D graphics in matplotlib, we can pass a `projection='3d'` keyword argument to the `add_axes` or `add_subplot` methods."
   ]
  },
  {
   "cell_type": "markdown",
   "metadata": {
    "id": "d7jYz2-7ED3U"
   },
   "source": [
    "### Surface plot"
   ]
  },
  {
   "cell_type": "code",
   "execution_count": 62,
   "metadata": {
    "id": "eJ4EER9KkMr4"
   },
   "outputs": [
    {
     "data": {
      "image/png": "[encoded data removed]",
      "text/plain": [
       "<Figure size 1008x432 with 3 Axes>"
      ]
     },
     "metadata": {
      "needs_background": "light"
     },
     "output_type": "display_data"
    }
   ],
   "source": [
    "fig = plt.figure(figsize=(14,6))\n",
    "\n",
    "# `ax` is a 3D-aware axis instance because of the projection='3d' keyword argument to add_subplot\n",
    "ax = fig.add_subplot(1, 2, 1, projection='3d')\n",
    "\n",
    "p = ax.plot_surface(X, Y, Z, rstride=4, cstride=4, linewidth=4)\n",
    "\n",
    "# surface_plot with color grading and color bar\n",
    "ax = fig.add_subplot(1, 2, 2, projection='3d')\n",
    "p = ax.plot_surface(X, Y, Z, rstride=10, cstride=10, linewidth=4)\n",
    "cb = fig.colorbar(p, shrink=0.5)"
   ]
  },
  {
   "cell_type": "markdown",
   "metadata": {
    "id": "XxXysG28EOF8"
   },
   "source": [
    "### Coutour plots with projections"
   ]
  },
  {
   "cell_type": "code",
   "execution_count": 63,
   "metadata": {
    "id": "T4BK2t3fEPxW"
   },
   "outputs": [
    {
     "data": {
      "image/png": "[encoded data removed]",
      "text/plain": [
       "<Figure size 576x432 with 1 Axes>"
      ]
     },
     "metadata": {
      "needs_background": "light"
     },
     "output_type": "display_data"
    }
   ],
   "source": [
    "fig = plt.figure(figsize=(8,6))\n",
    "\n",
    "ax = fig.add_subplot(1,1,1, projection='3d')\n",
    "\n",
    "ax.plot_surface(X, Y, Z, rstride=4, cstride=4, alpha=0.25)\n",
    "cset = ax.contour(X, Y, Z, zdir='z', offset=-np.pi)\n",
    "cset = ax.contour(X, Y, Z, zdir='x', offset=-np.pi)\n",
    "cset = ax.contour(X, Y, Z, zdir='y', offset=3*np.pi)\n",
    "\n",
    "ax.set_xlim3d(-np.pi, 2*np.pi);\n",
    "ax.set_ylim3d(0, 3*np.pi);\n",
    "ax.set_zlim3d(-np.pi, 2*np.pi);"
   ]
  },
  {
   "cell_type": "markdown",
   "metadata": {
    "id": "Fh7VfQtlxCFc"
   },
   "source": [
    " # Additional Materials: Numba\n",
    "\n",
    " [Numba](https://numba.pydata.org) is a just-in-time ([JIT](https://en.wikipedia.org/wiki/Just-in-time_compilation)) compiler for Python (It's OK if this term does not make sense to you. In a nutshell, this compilation technique bring your code closer to the actual hardware which in turn speed up the program execution time. This technique when apply to Python can speedup your program significantly in many scenarios. Numba is a JIT compiler for Python. It plays nicely with NumPy and Jupyter notebooks.    \n",
    "The following examples are adopted from http://numba.pydata.org/numba-doc/0.12/tutorial_numpy_and_numba.html. "
   ]
  },
  {
   "cell_type": "markdown",
   "metadata": {
    "id": "J8Wm-xCg3xZw"
   },
   "source": [
    "Let’s make a simple function that uses indexing. For example a really naive implementation of a sum:"
   ]
  },
  {
   "cell_type": "code",
   "execution_count": 64,
   "metadata": {
    "id": "n9W7iaSk4YLq"
   },
   "outputs": [],
   "source": [
    "import numba"
   ]
  },
  {
   "cell_type": "code",
   "execution_count": 65,
   "metadata": {
    "id": "KT6OEAYWxCFd"
   },
   "outputs": [],
   "source": [
    "def sum_all(A):\n",
    "    \"\"\"Naive sum of elements of an array... assumes one dimensional array of floats\"\"\"\n",
    "    acc = 0.0\n",
    "    for i in range(A.shape[0]):\n",
    "        acc += A[i]\n",
    "    return acc"
   ]
  },
  {
   "cell_type": "code",
   "execution_count": 66,
   "metadata": {
    "id": "2pMefvL6xCFd"
   },
   "outputs": [
    {
     "data": {
      "text/plain": [
       "array([0.0000e+00, 1.0000e+00, 2.0000e+00, ..., 9.9997e+04, 9.9998e+04,\n",
       "       9.9999e+04])"
      ]
     },
     "execution_count": 66,
     "metadata": {},
     "output_type": "execute_result"
    }
   ],
   "source": [
    "sample_array = np.arange(100000.0)\n",
    "sample_array"
   ]
  },
  {
   "cell_type": "markdown",
   "metadata": {
    "id": "wiJetQoXNhW1"
   },
   "source": [
    "The pure Python approach of this naive function is quite underwhelming speed-wise:"
   ]
  },
  {
   "cell_type": "code",
   "execution_count": 67,
   "metadata": {
    "id": "pqZ5ikKXxCFe"
   },
   "outputs": [
    {
     "name": "stdout",
     "output_type": "stream",
     "text": [
      "30.1 ms ± 1.27 ms per loop (mean ± std. dev. of 7 runs, 10 loops each)\n"
     ]
    }
   ],
   "source": [
    "get_ipython().run_line_magic('timeit', 'sum_all(sample_array)')"
   ]
  },
  {
   "cell_type": "markdown",
   "metadata": {
    "id": "n7U39HG7NnhJ"
   },
   "source": [
    "If we relied on NumPy it would be much faster:"
   ]
  },
  {
   "cell_type": "code",
   "execution_count": 68,
   "metadata": {
    "id": "PG0BooUuxCFf"
   },
   "outputs": [
    {
     "name": "stdout",
     "output_type": "stream",
     "text": [
      "36.7 µs ± 109 ns per loop (mean ± std. dev. of 7 runs, 10000 loops each)\n"
     ]
    }
   ],
   "source": [
    "get_ipython().run_line_magic('timeit', 'np.sum(sample_array)')"
   ]
  },
  {
   "cell_type": "markdown",
   "metadata": {
    "id": "U0WbZh_b4S6U"
   },
   "source": [
    "But with numba the speed of that naive code is quite good:"
   ]
  },
  {
   "cell_type": "code",
   "execution_count": 69,
   "metadata": {
    "id": "V81YXY98OF_h"
   },
   "outputs": [],
   "source": [
    "sum_all_jit = numba.jit('float64(float64[:])')(sum_all)"
   ]
  },
  {
   "cell_type": "code",
   "execution_count": 70,
   "metadata": {
    "id": "Fru0aThXxCFh"
   },
   "outputs": [
    {
     "name": "stdout",
     "output_type": "stream",
     "text": [
      "140 µs ± 91.1 ns per loop (mean ± std. dev. of 7 runs, 10000 loops each)\n"
     ]
    }
   ],
   "source": [
    "get_ipython().run_line_magic('timeit', 'sum_all_jit(sample_array)')"
   ]
  },
  {
   "cell_type": "markdown",
   "metadata": {
    "id": "3TD_OffyxCFn"
   },
   "source": [
    " # More on Python\n",
    " <ul>\n",
    "     <li>https://www.labri.fr/perso/nrougier/teaching/matplotlib/\n",
    "     <li>http://nbviewer.jupyter.org/github/jrjohansson/scientific-python-lectures/blob/master/Lecture-4-Matplotlib.ipynb\n",
    " </ul>"
   ]
  }
 ],
 "metadata": {
  "colab": {
   "collapsed_sections": [],
   "name": "Copy of Copy of Copy of Scientific-Python.ipynb",
   "provenance": [
    {
     "file_id": "1AgF3s5C2umCWotPzTNsWTUITX6nCJG_-",
     "timestamp": 1633638071950
    },
    {
     "file_id": "13lcv5VrOqeVNRWomLwCemVd3PR1ypODl",
     "timestamp": 1633633605681
    },
    {
     "file_id": "1dEUDq8bZC_01Zqb6aMTAA94cBzUbs6PG",
     "timestamp": 1633549997955
    }
   ],
   "toc_visible": true
  },
  "file_extension": ".py",
  "kernelspec": {
   "display_name": "Python 3",
   "language": "python",
   "name": "python3"
  },
  "language_info": {
   "codemirror_mode": {
    "name": "ipython",
    "version": 3
   },
   "file_extension": ".py",
   "mimetype": "text/x-python",
   "name": "python",
   "nbconvert_exporter": "python",
   "pygments_lexer": "ipython3",
   "version": "3.8.6"
  },
  "mimetype": "text/x-python",
  "name": "python",
  "npconvert_exporter": "python",
  "pygments_lexer": "ipython3",
  "version": 3
 },
 "nbformat": 4,
 "nbformat_minor": 1
}
